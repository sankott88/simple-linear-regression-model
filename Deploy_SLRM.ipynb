{
 "cells": [
  {
   "cell_type": "code",
   "execution_count": 1,
   "id": "4df103d5",
   "metadata": {},
   "outputs": [
    {
     "name": "stdin",
     "output_type": "stream",
     "text": [
      "Enter the TV ads spend amount: 2\n"
     ]
    },
    {
     "name": "stdout",
     "output_type": "stream",
     "text": [
      "The predicted sales volume is [[7.31100393]]\n"
     ]
    },
    {
     "name": "stderr",
     "output_type": "stream",
     "text": [
      "D:\\Users\\skotteeswaran\\AppData\\Local\\anaconda3\\Lib\\site-packages\\sklearn\\base.py:493: UserWarning: X does not have valid feature names, but LinearRegression was fitted with feature names\n",
      "  warnings.warn(\n"
     ]
    }
   ],
   "source": [
    "#Getting the saved model back using pickle module\n",
    "import pickle\n",
    "saved_model = pickle.load(open('final_model.sav','rb')) #load the model\n",
    "\n",
    "#Getting the new input from the user\n",
    "input_value = int(input(\"Enter the TV ads spend amount:\"))\n",
    "\n",
    "#passing the value to the predict function to determine the result and print it\n",
    "result = saved_model.predict([[input_value]]) #Determine the sales value if zero amont spent on TV ads\n",
    "print(f\"The predicted sales volume is {result}\")"
   ]
  },
  {
   "cell_type": "code",
   "execution_count": null,
   "id": "21d00b3b-44c8-4ee3-9d87-18fef8c224cf",
   "metadata": {},
   "outputs": [],
   "source": []
  }
 ],
 "metadata": {
  "kernelspec": {
   "display_name": "Python 3 (ipykernel)",
   "language": "python",
   "name": "python3"
  },
  "language_info": {
   "codemirror_mode": {
    "name": "ipython",
    "version": 3
   },
   "file_extension": ".py",
   "mimetype": "text/x-python",
   "name": "python",
   "nbconvert_exporter": "python",
   "pygments_lexer": "ipython3",
   "version": "3.12.7"
  }
 },
 "nbformat": 4,
 "nbformat_minor": 5
}
